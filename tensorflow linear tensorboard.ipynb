{
 "cells": [
  {
   "cell_type": "code",
   "execution_count": 1,
   "metadata": {
    "collapsed": false
   },
   "outputs": [
    {
     "name": "stdout",
     "output_type": "stream",
     "text": [
      "Populating the interactive namespace from numpy and matplotlib\n"
     ]
    }
   ],
   "source": [
    "import tensorflow as tf\n",
    "import os\n",
    "import time\n",
    "%pylab inline"
   ]
  },
  {
   "cell_type": "markdown",
   "metadata": {},
   "source": [
    "# Intro\n",
    "By importing tensorflow we've got a default graph, which keeps a record of all of the things we add. Each time we run something like `tf.Variable()`, a new variable gets added to the graph."
   ]
  },
  {
   "cell_type": "markdown",
   "metadata": {},
   "source": [
    "# Data input\n",
    "\n",
    "Declare placeholders for data - $x$ and $t$ are [batch_size, 1] arrays:"
   ]
  },
  {
   "cell_type": "code",
   "execution_count": 2,
   "metadata": {
    "collapsed": true
   },
   "outputs": [],
   "source": [
    "with tf.name_scope(\"inputs\") as _:\n",
    "    x = tf.placeholder(tf.float32, [None, 1], name=\"x_input\")\n",
    "    t = tf.placeholder(tf.float32, [None, 1], name=\"t_input\")"
   ]
  },
  {
   "cell_type": "markdown",
   "metadata": {},
   "source": [
    "# Model\n",
    "We're going to fit a linear model, $ y = \\alpha x + \\beta$. Declare $\\alpha$ and $\\beta$ to be tensorflow variables, and $y$ a function of them and $x$. This all gets registered in the graph."
   ]
  },
  {
   "cell_type": "code",
   "execution_count": 3,
   "metadata": {
    "collapsed": true
   },
   "outputs": [],
   "source": [
    "with tf.name_scope(\"variables\") as _:\n",
    "    alpha = tf.Variable(tf.zeros([1]), name=\"alpha\")\n",
    "    beta = tf.Variable(tf.zeros([1]), name=\"beta\")\n",
    "\n",
    "_=tf.scalar_summary([\"alpha\"], alpha)\n",
    "_=tf.scalar_summary([\"beta\"], beta)\n",
    "\n",
    "with tf.name_scope(\"function\") as _:\n",
    "    y = alpha * x + beta"
   ]
  },
  {
   "cell_type": "markdown",
   "metadata": {},
   "source": [
    "# Loss\n",
    "Minimize the sum of square losses between targets $t$ and estimates $y$"
   ]
  },
  {
   "cell_type": "code",
   "execution_count": 4,
   "metadata": {
    "collapsed": false
   },
   "outputs": [],
   "source": [
    "with tf.name_scope(\"loss\") as _:\n",
    "    loss = tf.reduce_sum(tf.square(t - y))\n",
    "_=tf.scalar_summary(\"loss\", loss)"
   ]
  },
  {
   "cell_type": "markdown",
   "metadata": {},
   "source": [
    "# Trainer\n",
    "Tensorflow comes with a bunch of trainers: lets start simple and just use a gradient descent."
   ]
  },
  {
   "cell_type": "code",
   "execution_count": 5,
   "metadata": {
    "collapsed": true
   },
   "outputs": [],
   "source": [
    "with tf.name_scope(\"train\") as _:\n",
    "    train_step = tf.train.GradientDescentOptimizer(0.0001).minimize(loss)"
   ]
  },
  {
   "cell_type": "markdown",
   "metadata": {},
   "source": [
    "# Generate data"
   ]
  },
  {
   "cell_type": "code",
   "execution_count": 9,
   "metadata": {
    "collapsed": true
   },
   "outputs": [],
   "source": [
    "alpha_ = 1\n",
    "beta_ = 10\n",
    "x_ = random.randn(1000,1)\n",
    "x_te_ = random.randn(1000,1)\n",
    "t_ = alpha_ * x_ + beta_\n",
    "t_te_ = alpha_ * x_te_ + beta_"
   ]
  },
  {
   "cell_type": "markdown",
   "metadata": {},
   "source": [
    "# Run the operations\n",
    "Tensorflow needs a session to run things in. Pythons `with _ as _:` syntax takes care of opening and closing the session."
   ]
  },
  {
   "cell_type": "code",
   "execution_count": 11,
   "metadata": {
    "collapsed": false
   },
   "outputs": [
    {
     "name": "stdout",
     "output_type": "stream",
     "text": [
      "[array([ 0.99999982], dtype=float32), array([ 9.99999809], dtype=float32)]\n"
     ]
    }
   ],
   "source": [
    "with tf.Session() as sess:\n",
    "    sess.run(tf.initialize_all_variables())\n",
    "    merged = tf.merge_all_summaries()\n",
    "    timestring = datetime.datetime.now().strftime(\"linear_%Y%m%d-%H%M%S\")\n",
    "    writer = tf.train.SummaryWriter(\"./tensorboard/{}/\".format(timestring), sess.graph_def)\n",
    "    for i in range(200):\n",
    "        summaries = sess.run(merged, feed_dict={x: x_te_, t: t_te_})\n",
    "        writer.add_summary(summaries, i)\n",
    "        sess.run(train_step, feed_dict={x: x_, t: t_})\n",
    "    print sess.run([alpha, beta])"
   ]
  },
  {
   "cell_type": "code",
   "execution_count": null,
   "metadata": {
    "collapsed": true
   },
   "outputs": [],
   "source": []
  }
 ],
 "metadata": {
  "kernelspec": {
   "display_name": "Python 2",
   "language": "python",
   "name": "python2"
  },
  "language_info": {
   "codemirror_mode": {
    "name": "ipython",
    "version": 2
   },
   "file_extension": ".py",
   "mimetype": "text/x-python",
   "name": "python",
   "nbconvert_exporter": "python",
   "pygments_lexer": "ipython2",
   "version": "2.7.11"
  }
 },
 "nbformat": 4,
 "nbformat_minor": 0
}
