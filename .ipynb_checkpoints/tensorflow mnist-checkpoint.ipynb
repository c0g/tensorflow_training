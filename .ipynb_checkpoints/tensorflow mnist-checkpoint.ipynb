{
 "cells": [
  {
   "cell_type": "code",
   "execution_count": 1,
   "metadata": {
    "collapsed": false
   },
   "outputs": [
    {
     "name": "stdout",
     "output_type": "stream",
     "text": [
      "Populating the interactive namespace from numpy and matplotlib\n"
     ]
    }
   ],
   "source": [
    "import tensorflow as tf\n",
    "import os\n",
    "import time\n",
    "from get_mnist import read_data_sets\n",
    "%pylab inline"
   ]
  },
  {
   "cell_type": "code",
   "execution_count": 2,
   "metadata": {
    "collapsed": false
   },
   "outputs": [
    {
     "name": "stdout",
     "output_type": "stream",
     "text": [
      "Extracting ./mnist/train-images-idx3-ubyte.gz\n",
      "Extracting ./mnist/train-labels-idx1-ubyte.gz\n",
      "Extracting ./mnist/t10k-images-idx3-ubyte.gz\n",
      "Extracting ./mnist/t10k-labels-idx1-ubyte.gz\n"
     ]
    }
   ],
   "source": [
    "mnist = read_data_sets(\"./mnist\", one_hot=True, dtype='float32')"
   ]
  },
  {
   "cell_type": "code",
   "execution_count": 3,
   "metadata": {
    "collapsed": false
   },
   "outputs": [],
   "source": [
    "with tf.name_scope(\"inputs\"):\n",
    "    x = tf.placeholder(tf.float32, [None, 784], name=\"input\")\n",
    "    y = tf.placeholder(tf.float32, [None, 10], name=\"output\")"
   ]
  },
  {
   "cell_type": "markdown",
   "metadata": {},
   "source": [
    "# Define network\n",
    "Input is 784 elemnts wide (full image). Make a fully connected 784, 50, 10, 10 network with relu activations.\n",
    "\n",
    "This isn't a particularly good network, but it serves to illustrate some tensorflow things."
   ]
  },
  {
   "cell_type": "code",
   "execution_count": 4,
   "metadata": {
    "collapsed": false
   },
   "outputs": [],
   "source": [
    "# with tf.name_scope(\"variables\"):\n",
    "W1 = tf.Variable(tf.random_normal([784, 50]), name=\"W1\")\n",
    "b1 = tf.Variable(tf.random_normal([50]), name=\"b1\")\n",
    "W2 = tf.Variable(tf.random_normal([50, 10]), name=\"W2\")\n",
    "b2 = tf.Variable(tf.random_normal([10]), name=\"b2\")\n",
    "\n",
    "# with tf.name_scope(\"network\"):\n",
    "h1 = tf.tanh(tf.matmul(x, W1) + b1)\n",
    "h2 = tf.tanh(tf.matmul(h1, W2) + b2)\n",
    "h3 = tf.tanh(tf.matmul(h2, W3) + b3)\n",
    "output = tf.nn.softmax(tf.matmul(h3, W4) + b4)\n",
    "    \n",
    "tf.histogram_summary(\"w1\", W1)\n",
    "tf.histogram_summary(\"b1\", b1)\n",
    "tf.histogram_summary(\"w2\", W2)\n",
    "tf.histogram_summary(\"b2\", b2)\n",
    "tf.histogram_summary(\"w3\", W3)\n",
    "tf.histogram_summary(\"b3\", b3)\n",
    "tf.histogram_summary(\"w4\", W4)\n",
    "tf.histogram_summary(\"b4\", b4)\n",
    "tf.histogram_summary(\"output\", output)\n",
    "\n",
    "# with tf.name_scope(\"loss\"):\n",
    "cross_entropy = -tf.reduce_sum(y*tf.log(output + 1e-9))\n",
    "xentropy = tf.scalar_summary(\"xentropy\", cross_entropy)\n",
    "    \n",
    "# with tf.name_scope(\"train\"):\n",
    "train_step = tf.train.AdamOptimizer(0.01).minimize(cross_entropy)\n",
    "    \n",
    "\n",
    "# with tf.name_scope(\"test\"):\n",
    "correct_prediction = tf.equal(tf.argmax(y,1), tf.argmax(output,1))\n",
    "accuracy = tf.reduce_mean(tf.cast(correct_prediction, tf.float32))\n",
    "accuracy_summary = tf.scalar_summary(\"accuracy\", accuracy)"
   ]
  },
  {
   "cell_type": "code",
   "execution_count": 5,
   "metadata": {
    "collapsed": false
   },
   "outputs": [
    {
     "name": "stdout",
     "output_type": "stream",
     "text": [
      "12.8000001907% correct\n",
      "65.9000015259% correct\n",
      "72.6999969482% correct\n",
      "79.5% correct\n",
      "86.0% correct\n",
      "87.6999969482% correct\n",
      "90.8000030518% correct\n",
      "92.0999984741% correct\n",
      "91.1999969482% correct\n",
      "92.1999969482% correct\n",
      "93.3000030518% correct\n",
      "94.3000030518% correct\n",
      "93.5999984741% correct\n",
      "95.7000045776% correct\n",
      "94.4000015259% correct\n",
      "94.7000045776% correct\n",
      "95.9000015259% correct\n",
      "96.6999969482% correct\n",
      "95.7000045776% correct\n",
      "96.1000061035% correct\n",
      "96.0% correct\n",
      "96.9000015259% correct\n",
      "97.0% correct\n",
      "96.2000045776% correct\n",
      "96.5% correct\n",
      "97.0999984741% correct\n",
      "97.7999954224% correct\n",
      "96.9000015259% correct\n",
      "98.4000015259% correct\n",
      "96.3000030518% correct\n",
      "97.3999938965% correct\n",
      "97.3999938965% correct\n",
      "97.3999938965% correct\n",
      "97.0999984741% correct\n",
      "97.5% correct\n",
      "96.3000030518% correct\n",
      "98.0999984741% correct\n",
      "97.7999954224% correct\n",
      "97.0999984741% correct\n",
      "98.0% correct\n",
      "98.0% correct\n",
      "98.9000015259% correct\n",
      "97.5% correct\n",
      "97.5% correct\n",
      "96.3000030518% correct\n",
      "97.5999984741% correct\n",
      "98.5999984741% correct\n",
      "97.5999984741% correct\n",
      "98.2999954224% correct\n",
      "98.1999969482% correct\n",
      "98.1999969482% correct\n",
      "98.4000015259% correct\n",
      "98.5% correct\n",
      "98.5% correct\n",
      "97.6999969482% correct\n",
      "99.0999984741% correct\n",
      "97.5999984741% correct\n",
      "98.5% correct\n",
      "98.7999954224% correct\n",
      "98.1999969482% correct\n",
      "98.2999954224% correct\n",
      "98.5999984741% correct\n",
      "98.0% correct\n",
      "97.7999954224% correct\n",
      "97.8999938965% correct\n",
      "98.6999969482% correct\n",
      "98.5% correct\n",
      "98.2999954224% correct\n",
      "98.2999954224% correct\n",
      "98.6999969482% correct\n",
      "98.9000015259% correct\n",
      "99.0999984741% correct\n",
      "98.2999954224% correct\n",
      "98.5% correct\n",
      "98.0999984741% correct\n",
      "98.7999954224% correct\n",
      "98.2999954224% correct\n",
      "98.7999954224% correct\n",
      "98.4000015259% correct\n",
      "98.7999954224% correct\n",
      "97.8999938965% correct\n",
      "99.0% correct\n",
      "99.2999954224% correct\n",
      "98.2999954224% correct\n",
      "98.1999969482% correct\n",
      "98.7999954224% correct\n",
      "97.7999954224% correct\n",
      "98.9000015259% correct\n",
      "98.9000015259% correct\n",
      "98.1999969482% correct\n",
      "98.1999969482% correct\n",
      "98.5999984741% correct\n",
      "99.0% correct\n",
      "98.5999984741% correct\n",
      "99.0% correct\n",
      "98.9000015259% correct\n",
      "98.9000015259% correct\n",
      "99.2999954224% correct\n",
      "99.0999984741% correct\n",
      "98.6999969482% correct\n"
     ]
    }
   ],
   "source": [
    "merged = tf.merge_all_summaries()\n",
    "timestring = datetime.datetime.now().strftime(\"mnist_%Y%m%d-%H%M%S\")\n",
    "with tf.Session() as sess:\n",
    "    writer = tf.train.SummaryWriter(\"./tensorboard/{}/\".format(timestring), sess.graph_def)\n",
    "    sess.run(tf.initialize_all_variables())\n",
    "    for i in range(10000):\n",
    "        x_tr_, y_tr_ = mnist.train.next_batch(1000)\n",
    "        sess.run(train_step, feed_dict={x: x_tr_, y: y_tr_})\n",
    "        if i % 100 == 0:\n",
    "            x_te_, y_te_ = mnist.validation.images, mnist.validation.labels\n",
    "            print \"{}% correct\".format(sess.run(100*accuracy, feed_dict={x: x_tr_, y: y_tr_}))\n",
    "            summaries = sess.run(merged, feed_dict={x: x_te_, y: y_te_})\n",
    "            writer.add_summary(summaries, i)"
   ]
  },
  {
   "cell_type": "code",
   "execution_count": null,
   "metadata": {
    "collapsed": true
   },
   "outputs": [],
   "source": []
  },
  {
   "cell_type": "code",
   "execution_count": null,
   "metadata": {
    "collapsed": true
   },
   "outputs": [],
   "source": []
  }
 ],
 "metadata": {
  "kernelspec": {
   "display_name": "Python 2",
   "language": "python",
   "name": "python2"
  },
  "language_info": {
   "codemirror_mode": {
    "name": "ipython",
    "version": 2
   },
   "file_extension": ".py",
   "mimetype": "text/x-python",
   "name": "python",
   "nbconvert_exporter": "python",
   "pygments_lexer": "ipython2",
   "version": "2.7.11"
  }
 },
 "nbformat": 4,
 "nbformat_minor": 0
}
