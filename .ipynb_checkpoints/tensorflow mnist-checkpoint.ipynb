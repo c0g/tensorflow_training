{
 "cells": [
  {
   "cell_type": "code",
   "execution_count": 1,
   "metadata": {
    "collapsed": false
   },
   "outputs": [
    {
     "name": "stdout",
     "output_type": "stream",
     "text": [
      "Populating the interactive namespace from numpy and matplotlib\n"
     ]
    }
   ],
   "source": [
    "import tensorflow as tf\n",
    "import os\n",
    "import time\n",
    "from get_mnist import read_data_sets\n",
    "%pylab inline"
   ]
  },
  {
   "cell_type": "code",
   "execution_count": 2,
   "metadata": {
    "collapsed": false
   },
   "outputs": [
    {
     "name": "stdout",
     "output_type": "stream",
     "text": [
      "Extracting ./mnist/train-images-idx3-ubyte.gz\n",
      "Extracting ./mnist/train-labels-idx1-ubyte.gz\n",
      "Extracting ./mnist/t10k-images-idx3-ubyte.gz\n",
      "Extracting ./mnist/t10k-labels-idx1-ubyte.gz\n"
     ]
    }
   ],
   "source": [
    "mnist = read_data_sets(\"./mnist\", one_hot=True, dtype='float32')"
   ]
  },
  {
   "cell_type": "code",
   "execution_count": 3,
   "metadata": {
    "collapsed": false
   },
   "outputs": [],
   "source": [
    "with tf.name_scope(\"inputs\"):\n",
    "    x = tf.placeholder(tf.float32, [None, 784], name=\"input\")\n",
    "    y = tf.placeholder(tf.float32, [None, 10], name=\"output\")"
   ]
  },
  {
   "cell_type": "markdown",
   "metadata": {},
   "source": [
    "# Define network\n",
    "Input is 784 elemnts wide (full image). Make a fully connected 784, 50, 10, 10 network with relu activations."
   ]
  },
  {
   "cell_type": "code",
   "execution_count": 4,
   "metadata": {
    "collapsed": false
   },
   "outputs": [],
   "source": [
    "with tf.name_scope(\"variables\"):\n",
    "    W1 = tf.Variable(tf.random_normal([784, 50]), name=\"W1\")\n",
    "    b1 = tf.Variable(tf.random_normal([50]), name=\"b1\")\n",
    "    W2 = tf.Variable(tf.random_normal([50, 10]), name=\"W2\")\n",
    "    b2 = tf.Variable(tf.random_normal([10]), name=\"b2\")\n",
    "    W3 = tf.Variable(tf.random_normal([10, 10]), name=\"W3\")\n",
    "    b3 = tf.Variable(tf.random_normal([10]), name=\"b3\")\n",
    "    W4 = tf.Variable(tf.random_normal([10, 10]), name=\"W4\")\n",
    "    b4 = tf.Variable(tf.random_normal([10]), name=\"b4\")\n",
    "\n",
    "with tf.name_scope(\"network\"):\n",
    "    h1 = tf.sigmoid(tf.matmul(x, W1) + b1)\n",
    "    h2 = tf.sigmoid(tf.matmul(h1, W2) + b2)\n",
    "    h3 = tf.sigmoid(tf.matmul(h2, W3) + b3)\n",
    "    output = tf.nn.softmax(tf.matmul(h3, W4) + b4)\n",
    "    \n",
    "tf.histogram_summary(\"w1\", W1)\n",
    "tf.histogram_summary(\"b1\", b1)\n",
    "tf.histogram_summary(\"w2\", W2)\n",
    "tf.histogram_summary(\"b2\", b2)\n",
    "tf.histogram_summary(\"w3\", W3)\n",
    "tf.histogram_summary(\"b3\", b3)\n",
    "tf.histogram_summary(\"w4\", W4)\n",
    "tf.histogram_summary(\"b4\", b4)\n",
    "tf.histogram_summary(\"output\", output)\n",
    "\n",
    "with tf.name_scope(\"loss\"):\n",
    "    cross_entropy = -tf.reduce_sum(y*tf.log(output + 1e-9))\n",
    "    xentropy = tf.scalar_summary(\"xentropy\", cross_entropy)\n",
    "    \n",
    "with tf.name_scope(\"train\"):\n",
    "    train_step = tf.train.AdamOptimizer(0.01).minimize(cross_entropy)\n",
    "    \n",
    "\n",
    "with tf.name_scope(\"test\"):\n",
    "    correct_prediction = tf.equal(tf.argmax(y,1), tf.argmax(output,1))\n",
    "    accuracy = tf.reduce_mean(tf.cast(correct_prediction, tf.float32))\n",
    "    accuracy_summary = tf.scalar_summary(\"accuracy\", accuracy)"
   ]
  },
  {
   "cell_type": "code",
   "execution_count": 5,
   "metadata": {
    "collapsed": false
   },
   "outputs": [
    {
     "name": "stdout",
     "output_type": "stream",
     "text": [
      "295.661\n",
      "102.738\n",
      "61.7059\n",
      "45.4649\n",
      "42.0661\n",
      "27.2801\n",
      "38.0876\n",
      "25.1926\n",
      "26.5737\n",
      "27.1851\n",
      "33.9949\n",
      "21.0389\n",
      "19.5312\n",
      "11.8544\n",
      "23.494\n",
      "21.9009\n",
      "14.8025\n",
      "9.16433\n",
      "18.1927\n",
      "15.7907\n",
      "19.1372\n",
      "29.6491\n",
      "30.1057\n",
      "16.7978\n",
      "12.2142\n",
      "4.24373\n",
      "14.078\n",
      "10.9009\n",
      "16.1069\n",
      "18.8151\n",
      "19.3028\n",
      "13.368\n",
      "3.64832\n",
      "12.449\n",
      "14.0709\n",
      "11.1215\n",
      "13.7236\n",
      "16.9027\n",
      "12.6813\n",
      "8.35666\n",
      "6.54433\n",
      "9.25537\n",
      "15.4075\n",
      "11.6513\n",
      "7.99348\n",
      "30.5299\n",
      "4.18702\n",
      "9.17957\n",
      "9.99957\n",
      "20.1884\n",
      "10.2\n",
      "5.51809\n",
      "4.61682\n",
      "6.37886\n",
      "4.4915\n",
      "15.5579\n",
      "11.734\n",
      "14.4262\n",
      "4.1233\n",
      "12.9505\n",
      "6.5841\n",
      "3.0948\n",
      "4.54356\n",
      "16.1316\n",
      "18.2446\n",
      "15.5264\n",
      "4.47133\n",
      "11.7094\n",
      "7.01723\n",
      "6.5581\n",
      "13.5967\n",
      "14.2044\n",
      "5.11174\n",
      "5.51852\n",
      "6.86721\n",
      "4.32014\n",
      "6.61588\n",
      "6.33455\n",
      "8.2148\n",
      "17.4666\n",
      "19.0434\n",
      "8.87494\n",
      "7.98422\n",
      "1.72496\n",
      "6.24826\n"
     ]
    },
    {
     "ename": "KeyboardInterrupt",
     "evalue": "",
     "output_type": "error",
     "traceback": [
      "\u001b[0;31m---------------------------------------------------------------------------\u001b[0m",
      "\u001b[0;31mKeyboardInterrupt\u001b[0m                         Traceback (most recent call last)",
      "\u001b[0;32m<ipython-input-5-08f9f6f2a4a9>\u001b[0m in \u001b[0;36m<module>\u001b[0;34m()\u001b[0m\n\u001b[1;32m      6\u001b[0m     \u001b[0;32mfor\u001b[0m \u001b[0mi\u001b[0m \u001b[0;32min\u001b[0m \u001b[0mrange\u001b[0m\u001b[0;34m(\u001b[0m\u001b[0;36m10000\u001b[0m\u001b[0;34m)\u001b[0m\u001b[0;34m:\u001b[0m\u001b[0;34m\u001b[0m\u001b[0m\n\u001b[1;32m      7\u001b[0m         \u001b[0mx_tr_\u001b[0m\u001b[0;34m,\u001b[0m \u001b[0my_tr_\u001b[0m \u001b[0;34m=\u001b[0m \u001b[0mmnist\u001b[0m\u001b[0;34m.\u001b[0m\u001b[0mtrain\u001b[0m\u001b[0;34m.\u001b[0m\u001b[0mnext_batch\u001b[0m\u001b[0;34m(\u001b[0m\u001b[0;36m100\u001b[0m\u001b[0;34m)\u001b[0m\u001b[0;34m\u001b[0m\u001b[0m\n\u001b[0;32m----> 8\u001b[0;31m         \u001b[0msess\u001b[0m\u001b[0;34m.\u001b[0m\u001b[0mrun\u001b[0m\u001b[0;34m(\u001b[0m\u001b[0mtrain_step\u001b[0m\u001b[0;34m,\u001b[0m \u001b[0mfeed_dict\u001b[0m\u001b[0;34m=\u001b[0m\u001b[0;34m{\u001b[0m\u001b[0mx\u001b[0m\u001b[0;34m:\u001b[0m \u001b[0mx_tr_\u001b[0m\u001b[0;34m,\u001b[0m \u001b[0my\u001b[0m\u001b[0;34m:\u001b[0m \u001b[0my_tr_\u001b[0m\u001b[0;34m}\u001b[0m\u001b[0;34m)\u001b[0m\u001b[0;34m\u001b[0m\u001b[0m\n\u001b[0m\u001b[1;32m      9\u001b[0m         \u001b[0;32mif\u001b[0m \u001b[0mi\u001b[0m \u001b[0;34m%\u001b[0m \u001b[0;36m100\u001b[0m \u001b[0;34m==\u001b[0m \u001b[0;36m0\u001b[0m\u001b[0;34m:\u001b[0m\u001b[0;34m\u001b[0m\u001b[0m\n\u001b[1;32m     10\u001b[0m             \u001b[0mx_te_\u001b[0m\u001b[0;34m,\u001b[0m \u001b[0my_te_\u001b[0m \u001b[0;34m=\u001b[0m \u001b[0mmnist\u001b[0m\u001b[0;34m.\u001b[0m\u001b[0mvalidation\u001b[0m\u001b[0;34m.\u001b[0m\u001b[0mimages\u001b[0m\u001b[0;34m,\u001b[0m \u001b[0mmnist\u001b[0m\u001b[0;34m.\u001b[0m\u001b[0mvalidation\u001b[0m\u001b[0;34m.\u001b[0m\u001b[0mlabels\u001b[0m\u001b[0;34m\u001b[0m\u001b[0m\n",
      "\u001b[0;32m/Users/tom/tensorflow/lib/python2.7/site-packages/tensorflow/python/client/session.pyc\u001b[0m in \u001b[0;36mrun\u001b[0;34m(self, fetches, feed_dict)\u001b[0m\n\u001b[1;32m    366\u001b[0m \u001b[0;34m\u001b[0m\u001b[0m\n\u001b[1;32m    367\u001b[0m     \u001b[0;31m# Run request and get response.\u001b[0m\u001b[0;34m\u001b[0m\u001b[0;34m\u001b[0m\u001b[0m\n\u001b[0;32m--> 368\u001b[0;31m     \u001b[0mresults\u001b[0m \u001b[0;34m=\u001b[0m \u001b[0mself\u001b[0m\u001b[0;34m.\u001b[0m\u001b[0m_do_run\u001b[0m\u001b[0;34m(\u001b[0m\u001b[0mtarget_list\u001b[0m\u001b[0;34m,\u001b[0m \u001b[0munique_fetch_targets\u001b[0m\u001b[0;34m,\u001b[0m \u001b[0mfeed_dict_string\u001b[0m\u001b[0;34m)\u001b[0m\u001b[0;34m\u001b[0m\u001b[0m\n\u001b[0m\u001b[1;32m    369\u001b[0m \u001b[0;34m\u001b[0m\u001b[0m\n\u001b[1;32m    370\u001b[0m     \u001b[0;31m# User may have fetched the same tensor multiple times, but we\u001b[0m\u001b[0;34m\u001b[0m\u001b[0;34m\u001b[0m\u001b[0m\n",
      "\u001b[0;32m/Users/tom/tensorflow/lib/python2.7/site-packages/tensorflow/python/client/session.pyc\u001b[0m in \u001b[0;36m_do_run\u001b[0;34m(self, target_list, fetch_list, feed_dict)\u001b[0m\n\u001b[1;32m    426\u001b[0m \u001b[0;34m\u001b[0m\u001b[0m\n\u001b[1;32m    427\u001b[0m       return tf_session.TF_Run(self._session, feed_dict, fetch_list,\n\u001b[0;32m--> 428\u001b[0;31m                                target_list)\n\u001b[0m\u001b[1;32m    429\u001b[0m \u001b[0;34m\u001b[0m\u001b[0m\n\u001b[1;32m    430\u001b[0m     \u001b[0;32mexcept\u001b[0m \u001b[0mtf_session\u001b[0m\u001b[0;34m.\u001b[0m\u001b[0mStatusNotOK\u001b[0m \u001b[0;32mas\u001b[0m \u001b[0me\u001b[0m\u001b[0;34m:\u001b[0m\u001b[0;34m\u001b[0m\u001b[0m\n",
      "\u001b[0;31mKeyboardInterrupt\u001b[0m: "
     ]
    }
   ],
   "source": [
    "merged = tf.merge_all_summaries()\n",
    "timestring = datetime.datetime.now().strftime(\"mnist_%Y%m%d-%H%M%S\")\n",
    "with tf.Session() as sess:\n",
    "    writer = tf.train.SummaryWriter(\"./tensorboard/{}/\".format(timestring), sess.graph_def)\n",
    "    sess.run(tf.initialize_all_variables())\n",
    "    for i in range(10000):\n",
    "        x_tr_, y_tr_ = mnist.train.next_batch(100)\n",
    "        sess.run(train_step, feed_dict={x: x_tr_, y: y_tr_})\n",
    "        if i % 100 == 0:\n",
    "            x_te_, y_te_ = mnist.validation.images, mnist.validation.labels\n",
    "            print sess.run(accuracy,feed_dict={x: x_tr_, y: y_tr_})\n",
    "            summaries = sess.run(merged, feed_dict={x: x_te_, y: y_te_})\n",
    "            writer.add_summary(summaries, 1)"
   ]
  },
  {
   "cell_type": "code",
   "execution_count": null,
   "metadata": {
    "collapsed": false
   },
   "outputs": [],
   "source": [
    "sess.run()"
   ]
  },
  {
   "cell_type": "code",
   "execution_count": null,
   "metadata": {
    "collapsed": true
   },
   "outputs": [],
   "source": []
  }
 ],
 "metadata": {
  "kernelspec": {
   "display_name": "Python 2",
   "language": "python",
   "name": "python2"
  },
  "language_info": {
   "codemirror_mode": {
    "name": "ipython",
    "version": 2
   },
   "file_extension": ".py",
   "mimetype": "text/x-python",
   "name": "python",
   "nbconvert_exporter": "python",
   "pygments_lexer": "ipython2",
   "version": "2.7.11"
  }
 },
 "nbformat": 4,
 "nbformat_minor": 0
}
