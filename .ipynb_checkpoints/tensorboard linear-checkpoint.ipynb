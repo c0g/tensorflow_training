{
 "cells": [
  {
   "cell_type": "code",
   "execution_count": 1,
   "metadata": {
    "collapsed": false
   },
   "outputs": [
    {
     "name": "stdout",
     "output_type": "stream",
     "text": [
      "Populating the interactive namespace from numpy and matplotlib\n"
     ]
    }
   ],
   "source": [
    "import tensorflow as tf\n",
    "%pylab inline"
   ]
  },
  {
   "cell_type": "code",
   "execution_count": 2,
   "metadata": {
    "collapsed": true
   },
   "outputs": [],
   "source": [
    "sess = tf.InteractiveSession()"
   ]
  },
  {
   "cell_type": "code",
   "execution_count": 3,
   "metadata": {
    "collapsed": false
   },
   "outputs": [],
   "source": [
    "x = tf.placeholder(tf.float32, [None, 1], name=\"x-input\")\n",
    "t = tf.placeholder(tf.float32, [None, 1], name=\"t-input\")\n",
    "with tf.name_scope(\"parameters\") as scope:\n",
    "    slope = tf.Variable(tf.zeros([1, 1]), name=\"slope\")\n",
    "    bias = tf.Variable(tf.zeros([1, 1]), name=\"bias\")\n",
    "with tf.name_scope(\"ax_b\") as scope:\n",
    "    y = x * slope + bias\n",
    "    \n",
    "# Add summary ops to collect data\n",
    "w_hist = tf.histogram_summary(\"slopes\", slope)\n",
    "b_hist = tf.histogram_summary(\"biases\", bias)\n",
    "y_hist = tf.histogram_summary(\"y\", y)\n",
    "\n",
    "\n",
    "with tf.name_scope(\"squared_loss\") as scope:\n",
    "    sq_loss = tf.reduce_sum(tf.square(y - t))\n",
    "with tf.name_scope(\"train\") as scope:\n",
    "    train_step = tf.train.GradientDescentOptimizer(0.01).minimize(sq_loss)\n"
   ]
  },
  {
   "cell_type": "code",
   "execution_count": 4,
   "metadata": {
    "collapsed": false
   },
   "outputs": [],
   "source": [
    "merged = tf.merge_all_summaries()\n",
    "writer = tf.train.SummaryWriter(\"~/tensorboard/\", sess.graph_def)\n",
    "tf.initialize_all_variables().run()"
   ]
  },
  {
   "cell_type": "code",
   "execution_count": 11,
   "metadata": {
    "collapsed": false
   },
   "outputs": [],
   "source": [
    "x_te = random.randn(100, 1)\n",
    "t_te = 3 * x_te + 10\n",
    "for i in range(100):\n",
    "    x_ = np.random.randn(10, 1)\n",
    "    t_ = 3 * x_ + 10\n",
    "    feed = {x: x_, t: t_}\n",
    "    feed_te = {x: x_te, t: t_te}\n",
    "    summaries = sess.run(merged, feed_dict=feed_te)\n",
    "    writer.add_summary(summaries, i)\n",
    "    sess.run(train_step, feed_dict=feed)"
   ]
  },
  {
   "cell_type": "code",
   "execution_count": 10,
   "metadata": {
    "collapsed": false
   },
   "outputs": [
    {
     "data": {
      "text/plain": [
       "<tensorflow.python.framework.ops.Tensor at 0x10acca7d0>"
      ]
     },
     "execution_count": 10,
     "metadata": {},
     "output_type": "execute_result"
    }
   ],
   "source": [
    "t_"
   ]
  },
  {
   "cell_type": "code",
   "execution_count": null,
   "metadata": {
    "collapsed": true
   },
   "outputs": [],
   "source": []
  }
 ],
 "metadata": {
  "kernelspec": {
   "display_name": "Python 2",
   "language": "python",
   "name": "python2"
  },
  "language_info": {
   "codemirror_mode": {
    "name": "ipython",
    "version": 2
   },
   "file_extension": ".py",
   "mimetype": "text/x-python",
   "name": "python",
   "nbconvert_exporter": "python",
   "pygments_lexer": "ipython2",
   "version": "2.7.11"
  }
 },
 "nbformat": 4,
 "nbformat_minor": 0
}
