{
 "cells": [
  {
   "cell_type": "code",
   "execution_count": 1,
   "metadata": {
    "collapsed": false
   },
   "outputs": [
    {
     "name": "stdout",
     "output_type": "stream",
     "text": [
      "Populating the interactive namespace from numpy and matplotlib\n"
     ]
    }
   ],
   "source": [
    "import tensorflow as tf\n",
    "import os\n",
    "import time\n",
    "from get_mnist import read_data_sets\n",
    "%pylab inline"
   ]
  },
  {
   "cell_type": "code",
   "execution_count": 2,
   "metadata": {
    "collapsed": false
   },
   "outputs": [
    {
     "name": "stdout",
     "output_type": "stream",
     "text": [
      "Extracting ./mnist/train-images-idx3-ubyte.gz\n",
      "Extracting ./mnist/train-labels-idx1-ubyte.gz\n",
      "Extracting ./mnist/t10k-images-idx3-ubyte.gz\n",
      "Extracting ./mnist/t10k-labels-idx1-ubyte.gz\n"
     ]
    }
   ],
   "source": [
    "mnist = read_data_sets(\"./mnist\", one_hot=True, dtype='float32')"
   ]
  },
  {
   "cell_type": "code",
   "execution_count": 3,
   "metadata": {
    "collapsed": false
   },
   "outputs": [],
   "source": [
    "with tf.name_scope(\"inputs\"):\n",
    "    x = tf.placeholder(tf.float32, [None, 784], name=\"input\")\n",
    "    y = tf.placeholder(tf.float32, [None, 10], name=\"output\")"
   ]
  },
  {
   "cell_type": "markdown",
   "metadata": {},
   "source": [
    "# Define network"
   ]
  },
  {
   "cell_type": "code",
   "execution_count": 4,
   "metadata": {
    "collapsed": true
   },
   "outputs": [],
   "source": [
    "def weight_variable(shape):\n",
    "    initial = tf.truncated_normal(shape, stddev=0.1)\n",
    "    return tf.Variable(initial)\n",
    "\n",
    "def bias_variable(shape):\n",
    "    initial = tf.constant(0.1, shape=shape)\n",
    "    return tf.Variable(initial)\n",
    "\n",
    "def conv2d(x, W):\n",
    "    return tf.nn.conv2d(x, W, strides=[1, 1, 1, 1], padding='SAME')\n",
    "\n",
    "def max_pool_2x2(x):\n",
    "    return tf.nn.max_pool(x, ksize=[1, 2, 2, 1],\n",
    "                        strides=[1, 2, 2, 1], padding='SAME')\n"
   ]
  },
  {
   "cell_type": "code",
   "execution_count": 5,
   "metadata": {
    "collapsed": false
   },
   "outputs": [],
   "source": [
    "W_conv1 = weight_variable([10, 10, 1, 32])\n",
    "b_conv1 = bias_variable([32])\n",
    "x_image = tf.reshape(x, [-1,28,28,1])\n",
    "\n",
    "h_conv1 = tf.nn.relu(conv2d(x_image, W_conv1) + b_conv1)\n",
    "h_pool1 = max_pool_2x2(h_conv1)\n",
    "\n",
    "W_conv2 = weight_variable([5, 5, 32, 64])\n",
    "b_conv2 = bias_variable([64])\n",
    "\n",
    "h_conv2 = tf.nn.relu(conv2d(h_pool1, W_conv2) + b_conv2)\n",
    "h_pool2 = max_pool_2x2(h_conv2)\n",
    "\n",
    "W_fc1 = weight_variable([7 * 7 * 64, 1024])\n",
    "b_fc1 = bias_variable([1024])\n",
    "\n",
    "h_pool2_flat = tf.reshape(h_pool2, [-1, 7*7*64])\n",
    "h_fc1 = tf.nn.relu(tf.matmul(h_pool2_flat, W_fc1) + b_fc1)\n",
    "\n",
    "keep_prob = tf.placeholder(tf.float32)\n",
    "h_fc1_drop = tf.nn.dropout(h_fc1, keep_prob)\n",
    "\n",
    "W_fc2 = weight_variable([1024, 10])\n",
    "b_fc2 = bias_variable([10])\n",
    "\n",
    "output=tf.nn.softmax(tf.matmul(h_fc1_drop, W_fc2) + b_fc2)\n",
    "\n",
    "    \n",
    "W1_image = tf.transpose(W_conv1, [3,0,1,2])\n",
    "tf.image_summary(\"W_conv1\", W1_image, max_images=32)\n",
    "\n",
    "# with tf.name_scope(\"loss\"):\n",
    "cross_entropy = -tf.reduce_sum(y*tf.log(output + 1e-9))\n",
    "xentropy = tf.scalar_summary(\"xentropy\", cross_entropy)\n",
    "    \n",
    "# with tf.name_scope(\"train\"):\n",
    "train_step = tf.train.AdamOptimizer(1e-4).minimize(cross_entropy)\n",
    "\n",
    "# with tf.name_scope(\"test\"):\n",
    "correct_prediction = tf.equal(tf.argmax(y,1), tf.argmax(output,1))\n",
    "accuracy = tf.reduce_mean(tf.cast(correct_prediction, tf.float32))\n",
    "accuracy_summary = tf.scalar_summary(\"accuracy\", accuracy)"
   ]
  },
  {
   "cell_type": "code",
   "execution_count": null,
   "metadata": {
    "collapsed": false
   },
   "outputs": [
    {
     "name": "stdout",
     "output_type": "stream",
     "text": [
      "14.0% correct\n",
      "22.0% correct\n",
      "52.9999961853% correct\n",
      "74.0% correct\n",
      "76.0% correct\n",
      "77.0% correct\n",
      "73.0% correct\n",
      "81.0% correct\n",
      "82.0% correct\n",
      "85.0% correct\n",
      "83.0% correct\n",
      "87.0% correct\n",
      "87.0% correct\n",
      "90.0% correct\n",
      "94.0% correct\n",
      "94.0% correct\n",
      "92.0% correct\n",
      "97.0% correct\n",
      "92.0% correct\n",
      "92.0% correct\n",
      "91.0% correct\n",
      "93.0% correct\n",
      "90.0% correct\n",
      "94.0% correct\n",
      "92.0% correct\n",
      "95.0% correct"
     ]
    }
   ],
   "source": [
    "merged = tf.merge_all_summaries()\n",
    "timestring = datetime.datetime.now().strftime(\"mnist_conv_%Y%m%d-%H%M%S\")\n",
    "with tf.Session() as sess:\n",
    "    writer = tf.train.SummaryWriter(\"./tensorboard/{}/\".format(timestring), sess.graph_def)\n",
    "    sess.run(tf.initialize_all_variables())\n",
    "    for i in range(10000):\n",
    "        x_tr_, y_tr_ = mnist.train.next_batch(100)\n",
    "        sess.run(train_step, feed_dict={x: x_tr_, y: y_tr_, keep_prob:0.5})\n",
    "        if i % 10 == 0:\n",
    "            x_te_, y_te_ = mnist.validation.next_batch(100)\n",
    "            print \"{}% correct\".format(sess.run(100*accuracy, feed_dict={x: x_te_, y: y_te_, keep_prob:1.0}))\n",
    "            summaries = sess.run(merged, feed_dict={x: x_te_, y: y_te_, keep_prob:1.0})\n",
    "            writer.add_summary(summaries, i)"
   ]
  }
 ],
 "metadata": {
  "kernelspec": {
   "display_name": "Python 2",
   "language": "python",
   "name": "python2"
  },
  "language_info": {
   "codemirror_mode": {
    "name": "ipython",
    "version": 2
   },
   "file_extension": ".py",
   "mimetype": "text/x-python",
   "name": "python",
   "nbconvert_exporter": "python",
   "pygments_lexer": "ipython2",
   "version": "2.7.11"
  }
 },
 "nbformat": 4,
 "nbformat_minor": 0
}
