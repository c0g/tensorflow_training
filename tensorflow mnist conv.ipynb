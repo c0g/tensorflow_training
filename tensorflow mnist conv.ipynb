{
 "cells": [
  {
   "cell_type": "code",
   "execution_count": 1,
   "metadata": {
    "collapsed": false
   },
   "outputs": [
    {
     "name": "stdout",
     "output_type": "stream",
     "text": [
      "Populating the interactive namespace from numpy and matplotlib\n"
     ]
    }
   ],
   "source": [
    "import tensorflow as tf\n",
    "import os\n",
    "import time\n",
    "from get_mnist import read_data_sets\n",
    "%pylab inline"
   ]
  },
  {
   "cell_type": "code",
   "execution_count": 2,
   "metadata": {
    "collapsed": false
   },
   "outputs": [
    {
     "name": "stdout",
     "output_type": "stream",
     "text": [
      "Extracting ./mnist/train-images-idx3-ubyte.gz\n",
      "Extracting ./mnist/train-labels-idx1-ubyte.gz\n",
      "Extracting ./mnist/t10k-images-idx3-ubyte.gz\n",
      "Extracting ./mnist/t10k-labels-idx1-ubyte.gz\n"
     ]
    }
   ],
   "source": [
    "mnist = read_data_sets(\"./mnist\", one_hot=True, dtype='float32')"
   ]
  },
  {
   "cell_type": "code",
   "execution_count": 3,
   "metadata": {
    "collapsed": false
   },
   "outputs": [],
   "source": [
    "with tf.name_scope(\"inputs\"):\n",
    "    x = tf.placeholder(tf.float32, [None, 784], name=\"input\")\n",
    "    y = tf.placeholder(tf.float32, [None, 10], name=\"output\")"
   ]
  },
  {
   "cell_type": "markdown",
   "metadata": {},
   "source": [
    "# Define network"
   ]
  },
  {
   "cell_type": "code",
   "execution_count": 4,
   "metadata": {
    "collapsed": true
   },
   "outputs": [],
   "source": [
    "def weight_variable(shape):\n",
    "    initial = tf.truncated_normal(shape, stddev=0.1)\n",
    "    return tf.Variable(initial)\n",
    "\n",
    "def bias_variable(shape):\n",
    "    initial = tf.constant(0.1, shape=shape)\n",
    "    return tf.Variable(initial)\n",
    "\n",
    "def conv2d(x, W):\n",
    "    return tf.nn.conv2d(x, W, strides=[1, 1, 1, 1], padding='SAME')\n",
    "\n",
    "def max_pool_2x2(x):\n",
    "    return tf.nn.max_pool(x, ksize=[1, 2, 2, 1],\n",
    "                        strides=[1, 2, 2, 1], padding='SAME')\n"
   ]
  },
  {
   "cell_type": "code",
   "execution_count": 7,
   "metadata": {
    "collapsed": false
   },
   "outputs": [],
   "source": [
    "W_conv1 = weight_variable([5, 5, 1, 24])\n",
    "b_conv1 = bias_variable([32])\n",
    "x_image = tf.reshape(x, [-1,28,28,1])\n",
    "\n",
    "h_conv1 = tf.nn.relu(conv2d(x_image, W_conv1) + b_conv1)\n",
    "h_pool1 = max_pool_2x2(h_conv1)\n",
    "\n",
    "W_conv2 = weight_variable([5, 5, 24, 64])\n",
    "b_conv2 = bias_variable([64])\n",
    "\n",
    "h_conv2 = tf.nn.relu(conv2d(h_pool1, W_conv2) + b_conv2)\n",
    "h_pool2 = max_pool_2x2(h_conv2)\n",
    "\n",
    "W_fc1 = weight_variable([7 * 7 * 64, 1024])\n",
    "b_fc1 = bias_variable([1024])\n",
    "\n",
    "h_pool2_flat = tf.reshape(h_pool2, [-1, 7*7*64])\n",
    "h_fc1 = tf.nn.relu(tf.matmul(h_pool2_flat, W_fc1) + b_fc1)\n",
    "\n",
    "keep_prob = tf.placeholder(tf.float32)\n",
    "h_fc1_drop = tf.nn.dropout(h_fc1, keep_prob)\n",
    "\n",
    "W_fc2 = weight_variable([1024, 10])\n",
    "b_fc2 = bias_variable([10])\n",
    "\n",
    "output=tf.nn.softmax(tf.matmul(h_fc1_drop, W_fc2) + b_fc2)\n",
    "\n",
    "\n",
    "# with tf.name_scope(\"loss\"):\n",
    "cross_entropy = -tf.reduce_sum(y*tf.log(output + 1e-9))\n",
    "xentropy = tf.scalar_summary(\"xentropy\", cross_entropy)\n",
    "    \n",
    "# with tf.name_scope(\"train\"):\n",
    "train_step = tf.train.AdamOptimizer(1e-4).minimize(cross_entropy)\n",
    "\n",
    "# with tf.name_scope(\"test\"):\n",
    "correct_prediction = tf.equal(tf.argmax(y,1), tf.argmax(output,1))\n",
    "accuracy = tf.reduce_mean(tf.cast(correct_prediction, tf.float32))\n",
    "accuracy_summary = tf.scalar_summary(\"accuracy\", accuracy)"
   ]
  },
  {
   "cell_type": "code",
   "execution_count": null,
   "metadata": {
    "collapsed": true
   },
   "outputs": [],
   "source": [
    "W1_a = W_conv1                            # [5, 5, 1, 24]\n",
    "W1pad= tf.zeros([5, 5, 1, 1])        # [5, 5, 1, 1]\n",
    "W1_b = tf.concat(3, [W1_a, W1pad])   # [5, 5, 1, 25]\n",
    "W1_c = tf.split(3, 25, W1_b)         # 25 x [5, 5, 1, 1]\n",
    "W1_row0 = tf.concat(0, W1_c[0:5])    # [25, 5, 1, 1]\n",
    "W1_row1 = tf.concat(0, W1_c[5:10])   # [25, 5, 1, 1]\n",
    "W1_row2 = tf.concat(0, W1_c[10:15])  # [25, 5, 1, 1]\n",
    "W1_row3 = tf.concat(0, W1_c[15:20])  # [25, 5, 1, 1]\n",
    "W1_row4 = tf.concat(0, W1_c[20:25])  # [25, 5, 1, 1]\n",
    "W1_d = tf.concat(1, [W1_row0, W1_row1, W1_row2, W1_row3, W1_row4]) # [25, 25, 1, 1]\n",
    "W1_e = tf.reshape(W1_d, [1, 25, 25, 1])\n",
    "Wtag = tf.placeholder(tf.string, None)\n",
    "tf.image_summary(\"convs\", W1_e)"
   ]
  },
  {
   "cell_type": "code",
   "execution_count": 8,
   "metadata": {
    "collapsed": false
   },
   "outputs": [
    {
     "name": "stdout",
     "output_type": "stream",
     "text": [
      "8.5% correct\n",
      "27.5% correct\n",
      "66.3999938965% correct\n",
      "77.4000015259% correct\n",
      "82.3000030518% correct\n",
      "87.6999969482% correct\n",
      "87.9000015259% correct\n",
      "89.0999984741% correct\n",
      "92.0% correct\n",
      "93.5999984741% correct\n",
      "92.5999984741% correct\n",
      "92.4000015259% correct\n",
      "94.0999984741% correct\n",
      "94.5% correct\n",
      "95.0999984741% correct\n",
      "95.5% correct\n",
      "96.4000015259% correct\n",
      "95.3000030518% correct\n",
      "95.7000045776% correct\n",
      "95.5% correct\n",
      "96.4000015259% correct\n",
      "96.3000030518% correct\n",
      "96.6999969482% correct\n",
      "96.5999984741% correct\n",
      "95.7000045776% correct\n",
      "97.5% correct\n",
      "95.9000015259% correct\n",
      "97.0% correct\n",
      "96.4000015259% correct\n",
      "97.2999954224% correct\n",
      "97.1999969482% correct\n",
      "97.5% correct\n",
      "97.8999938965% correct\n",
      "96.5999984741% correct\n",
      "97.0999984741% correct\n",
      "98.1999969482% correct\n",
      "97.1999969482% correct\n",
      "96.6999969482% correct\n",
      "98.0999984741% correct\n",
      "97.3999938965% correct\n",
      "98.0999984741% correct\n",
      "97.0% correct\n",
      "97.1999969482% correct\n",
      "98.1999969482% correct\n",
      "98.6999969482% correct\n",
      "98.2999954224% correct\n",
      "97.2999954224% correct\n",
      "97.6999969482% correct\n",
      "98.1999969482% correct\n",
      "98.0999984741% correct\n",
      "98.0% correct\n",
      "98.1999969482% correct\n",
      "98.0999984741% correct\n",
      "97.7999954224% correct\n",
      "98.2999954224% correct\n",
      "98.2999954224% correct\n",
      "97.6999969482% correct\n",
      "98.2999954224% correct\n",
      "98.0% correct\n",
      "98.5% correct\n",
      "97.5999984741% correct\n",
      "97.8999938965% correct\n",
      "98.4000015259% correct\n",
      "98.7999954224% correct\n",
      "98.2999954224% correct\n",
      "98.1999969482% correct\n",
      "98.4000015259% correct\n",
      "98.2999954224% correct\n",
      "98.1999969482% correct\n",
      "98.5% correct\n",
      "97.8999938965% correct\n",
      "98.1999969482% correct\n",
      "98.5999984741% correct\n",
      "98.0999984741% correct\n",
      "99.0% correct\n",
      "98.1999969482% correct\n",
      "97.5999984741% correct\n",
      "98.5% correct\n",
      "98.5999984741% correct\n",
      "98.6999969482% correct\n",
      "98.1999969482% correct\n",
      "98.5999984741% correct\n",
      "98.4000015259% correct\n",
      "98.5999984741% correct\n",
      "98.5% correct\n",
      "98.5% correct\n",
      "98.5999984741% correct\n",
      "98.7999954224% correct\n",
      "98.0% correct\n",
      "98.1999969482% correct\n",
      "97.7999954224% correct\n",
      "99.0% correct\n",
      "98.4000015259% correct\n",
      "98.7999954224% correct\n",
      "98.0% correct\n",
      "98.9000015259% correct\n",
      "98.2999954224% correct\n",
      "98.0% correct\n",
      "98.6999969482% correct\n",
      "98.9000015259% correct\n",
      "99.0% correct\n",
      "98.7999954224% correct\n",
      "98.7999954224% correct\n",
      "98.0% correct\n",
      "98.6999969482% correct\n",
      "98.4000015259% correct\n",
      "98.5% correct\n",
      "98.5% correct\n",
      "98.6999969482% correct\n",
      "98.6999969482% correct\n",
      "98.5999984741% correct\n",
      "98.9000015259% correct\n",
      "98.5999984741% correct\n",
      "98.5999984741% correct\n",
      "98.5% correct\n",
      "99.0% correct\n",
      "98.5999984741% correct\n",
      "98.4000015259% correct\n",
      "98.5999984741% correct\n",
      "98.2999954224% correct\n",
      "98.7999954224% correct\n",
      "98.9000015259% correct\n",
      "98.2999954224% correct\n",
      "98.5999984741% correct\n",
      "98.6999969482% correct\n",
      "98.6999969482% correct\n",
      "99.0% correct\n",
      "98.2999954224% correct\n",
      "98.6999969482% correct\n",
      "98.1999969482% correct\n",
      "99.0% correct\n",
      "98.5999984741% correct\n",
      "98.4000015259% correct\n",
      "98.6999969482% correct\n",
      "98.9000015259% correct\n",
      "98.5999984741% correct\n",
      "99.4000015259% correct\n",
      "98.5999984741% correct\n",
      "98.9000015259% correct\n",
      "98.2999954224% correct\n",
      "98.5999984741% correct\n",
      "98.7999954224% correct\n",
      "98.9000015259% correct\n",
      "98.9000015259% correct\n",
      "98.5999984741% correct\n",
      "98.2999954224% correct\n",
      "99.0999984741% correct\n",
      "99.0999984741% correct\n",
      "98.2999954224% correct\n",
      "99.0999984741% correct\n",
      "98.4000015259% correct\n",
      "98.5% correct\n",
      "98.9000015259% correct\n",
      "98.5999984741% correct\n",
      "99.2999954224% correct\n",
      "98.6999969482% correct\n",
      "99.0% correct\n",
      "98.5999984741% correct\n",
      "98.9000015259% correct\n",
      "98.9000015259% correct\n",
      "98.7999954224% correct\n",
      "98.5% correct\n",
      "98.6999969482% correct\n",
      "99.4000015259% correct\n",
      "99.0% correct\n",
      "98.7999954224% correct\n",
      "98.9000015259% correct\n",
      "99.4000015259% correct\n",
      "99.0% correct\n",
      "98.6999969482% correct\n",
      "98.7999954224% correct\n",
      "98.6999969482% correct\n",
      "98.5999984741% correct\n",
      "99.4000015259% correct\n",
      "98.7999954224% correct\n",
      "99.6999969482% correct\n",
      "98.9000015259% correct\n",
      "99.0% correct\n",
      "98.9000015259% correct\n",
      "98.0999984741% correct\n",
      "99.0% correct\n",
      "98.6999969482% correct\n",
      "98.5999984741% correct\n",
      "99.0999984741% correct\n",
      "99.5% correct\n",
      "98.9000015259% correct\n",
      "98.7999954224% correct\n",
      "98.9000015259% correct\n",
      "99.0999984741% correct\n",
      "99.0% correct\n",
      "99.0999984741% correct\n",
      "99.1999969482% correct\n",
      "98.6999969482% correct\n",
      "99.0% correct\n",
      "98.7999954224% correct\n",
      "98.5999984741% correct\n",
      "99.0% correct\n",
      "98.6999969482% correct\n",
      "99.0999984741% correct\n",
      "99.0% correct\n",
      "99.4000015259% correct\n",
      "98.6999969482% correct\n",
      "99.1999969482% correct\n",
      "98.6999969482% correct\n",
      "99.0% correct\n",
      "99.0999984741% correct\n"
     ]
    },
    {
     "ename": "KeyboardInterrupt",
     "evalue": "",
     "output_type": "error",
     "traceback": [
      "\u001b[1;31m---------------------------------------------------------------------------\u001b[0m",
      "\u001b[1;31mKeyboardInterrupt\u001b[0m                         Traceback (most recent call last)",
      "\u001b[1;32m<ipython-input-8-610c22b2fe40>\u001b[0m in \u001b[0;36m<module>\u001b[1;34m()\u001b[0m\n\u001b[0;32m      6\u001b[0m     \u001b[1;32mfor\u001b[0m \u001b[0mi\u001b[0m \u001b[1;32min\u001b[0m \u001b[0mrange\u001b[0m\u001b[1;33m(\u001b[0m\u001b[1;36m10000\u001b[0m\u001b[1;33m)\u001b[0m\u001b[1;33m:\u001b[0m\u001b[1;33m\u001b[0m\u001b[0m\n\u001b[0;32m      7\u001b[0m         \u001b[0mx_tr_\u001b[0m\u001b[1;33m,\u001b[0m \u001b[0my_tr_\u001b[0m \u001b[1;33m=\u001b[0m \u001b[0mmnist\u001b[0m\u001b[1;33m.\u001b[0m\u001b[0mtrain\u001b[0m\u001b[1;33m.\u001b[0m\u001b[0mnext_batch\u001b[0m\u001b[1;33m(\u001b[0m\u001b[1;36m1000\u001b[0m\u001b[1;33m)\u001b[0m\u001b[1;33m\u001b[0m\u001b[0m\n\u001b[1;32m----> 8\u001b[1;33m         \u001b[0msess\u001b[0m\u001b[1;33m.\u001b[0m\u001b[0mrun\u001b[0m\u001b[1;33m(\u001b[0m\u001b[0mtrain_step\u001b[0m\u001b[1;33m,\u001b[0m \u001b[0mfeed_dict\u001b[0m\u001b[1;33m=\u001b[0m\u001b[1;33m{\u001b[0m\u001b[0mx\u001b[0m\u001b[1;33m:\u001b[0m \u001b[0mx_tr_\u001b[0m\u001b[1;33m,\u001b[0m \u001b[0my\u001b[0m\u001b[1;33m:\u001b[0m \u001b[0my_tr_\u001b[0m\u001b[1;33m,\u001b[0m \u001b[0mkeep_prob\u001b[0m\u001b[1;33m:\u001b[0m\u001b[1;36m0.5\u001b[0m\u001b[1;33m}\u001b[0m\u001b[1;33m)\u001b[0m\u001b[1;33m\u001b[0m\u001b[0m\n\u001b[0m\u001b[0;32m      9\u001b[0m         \u001b[1;32mif\u001b[0m \u001b[0mi\u001b[0m \u001b[1;33m%\u001b[0m \u001b[1;36m10\u001b[0m \u001b[1;33m==\u001b[0m \u001b[1;36m0\u001b[0m\u001b[1;33m:\u001b[0m\u001b[1;33m\u001b[0m\u001b[0m\n\u001b[0;32m     10\u001b[0m             \u001b[0mx_te_\u001b[0m\u001b[1;33m,\u001b[0m \u001b[0my_te_\u001b[0m \u001b[1;33m=\u001b[0m \u001b[0mmnist\u001b[0m\u001b[1;33m.\u001b[0m\u001b[0mvalidation\u001b[0m\u001b[1;33m.\u001b[0m\u001b[0mnext_batch\u001b[0m\u001b[1;33m(\u001b[0m\u001b[1;36m1000\u001b[0m\u001b[1;33m)\u001b[0m\u001b[1;33m\u001b[0m\u001b[0m\n",
      "\u001b[1;32m/home/trn/tensorflow/local/lib/python2.7/site-packages/tensorflow/python/client/session.pyc\u001b[0m in \u001b[0;36mrun\u001b[1;34m(self, fetches, feed_dict)\u001b[0m\n\u001b[0;32m    313\u001b[0m         \u001b[1;33m`\u001b[0m\u001b[0mTensor\u001b[0m\u001b[1;33m`\u001b[0m \u001b[0mthat\u001b[0m \u001b[0mdoesn\u001b[0m\u001b[0;31m'\u001b[0m\u001b[0mt\u001b[0m \u001b[0mexist\u001b[0m\u001b[1;33m.\u001b[0m\u001b[1;33m\u001b[0m\u001b[0m\n\u001b[0;32m    314\u001b[0m     \"\"\"\n\u001b[1;32m--> 315\u001b[1;33m     \u001b[1;32mreturn\u001b[0m \u001b[0mself\u001b[0m\u001b[1;33m.\u001b[0m\u001b[0m_run\u001b[0m\u001b[1;33m(\u001b[0m\u001b[0mNone\u001b[0m\u001b[1;33m,\u001b[0m \u001b[0mfetches\u001b[0m\u001b[1;33m,\u001b[0m \u001b[0mfeed_dict\u001b[0m\u001b[1;33m)\u001b[0m\u001b[1;33m\u001b[0m\u001b[0m\n\u001b[0m\u001b[0;32m    316\u001b[0m \u001b[1;33m\u001b[0m\u001b[0m\n\u001b[0;32m    317\u001b[0m   \u001b[1;32mdef\u001b[0m \u001b[0mpartial_run\u001b[0m\u001b[1;33m(\u001b[0m\u001b[0mself\u001b[0m\u001b[1;33m,\u001b[0m \u001b[0mhandle\u001b[0m\u001b[1;33m,\u001b[0m \u001b[0mfetches\u001b[0m\u001b[1;33m,\u001b[0m \u001b[0mfeed_dict\u001b[0m\u001b[1;33m=\u001b[0m\u001b[0mNone\u001b[0m\u001b[1;33m)\u001b[0m\u001b[1;33m:\u001b[0m\u001b[1;33m\u001b[0m\u001b[0m\n",
      "\u001b[1;32m/home/trn/tensorflow/local/lib/python2.7/site-packages/tensorflow/python/client/session.pyc\u001b[0m in \u001b[0;36m_run\u001b[1;34m(self, handle, fetches, feed_dict)\u001b[0m\n\u001b[0;32m    509\u001b[0m     \u001b[1;31m# Run request and get response.\u001b[0m\u001b[1;33m\u001b[0m\u001b[1;33m\u001b[0m\u001b[0m\n\u001b[0;32m    510\u001b[0m     results = self._do_run(handle, target_list, unique_fetches,\n\u001b[1;32m--> 511\u001b[1;33m                            feed_dict_string)\n\u001b[0m\u001b[0;32m    512\u001b[0m \u001b[1;33m\u001b[0m\u001b[0m\n\u001b[0;32m    513\u001b[0m     \u001b[1;31m# User may have fetched the same tensor multiple times, but we\u001b[0m\u001b[1;33m\u001b[0m\u001b[1;33m\u001b[0m\u001b[0m\n",
      "\u001b[1;32m/home/trn/tensorflow/local/lib/python2.7/site-packages/tensorflow/python/client/session.pyc\u001b[0m in \u001b[0;36m_do_run\u001b[1;34m(self, handle, target_list, fetch_list, feed_dict)\u001b[0m\n\u001b[0;32m    562\u001b[0m     \u001b[1;32mif\u001b[0m \u001b[0mhandle\u001b[0m \u001b[1;32mis\u001b[0m \u001b[0mNone\u001b[0m\u001b[1;33m:\u001b[0m\u001b[1;33m\u001b[0m\u001b[0m\n\u001b[0;32m    563\u001b[0m       return self._do_call(_run_fn, self._session, feed_dict, fetch_list,\n\u001b[1;32m--> 564\u001b[1;33m                            target_list)\n\u001b[0m\u001b[0;32m    565\u001b[0m     \u001b[1;32melse\u001b[0m\u001b[1;33m:\u001b[0m\u001b[1;33m\u001b[0m\u001b[0m\n\u001b[0;32m    566\u001b[0m       return self._do_call(_prun_fn, self._session, handle, feed_dict,\n",
      "\u001b[1;32m/home/trn/tensorflow/local/lib/python2.7/site-packages/tensorflow/python/client/session.pyc\u001b[0m in \u001b[0;36m_do_call\u001b[1;34m(self, fn, *args)\u001b[0m\n\u001b[0;32m    569\u001b[0m   \u001b[1;32mdef\u001b[0m \u001b[0m_do_call\u001b[0m\u001b[1;33m(\u001b[0m\u001b[0mself\u001b[0m\u001b[1;33m,\u001b[0m \u001b[0mfn\u001b[0m\u001b[1;33m,\u001b[0m \u001b[1;33m*\u001b[0m\u001b[0margs\u001b[0m\u001b[1;33m)\u001b[0m\u001b[1;33m:\u001b[0m\u001b[1;33m\u001b[0m\u001b[0m\n\u001b[0;32m    570\u001b[0m     \u001b[1;32mtry\u001b[0m\u001b[1;33m:\u001b[0m\u001b[1;33m\u001b[0m\u001b[0m\n\u001b[1;32m--> 571\u001b[1;33m       \u001b[1;32mreturn\u001b[0m \u001b[0mfn\u001b[0m\u001b[1;33m(\u001b[0m\u001b[1;33m*\u001b[0m\u001b[0margs\u001b[0m\u001b[1;33m)\u001b[0m\u001b[1;33m\u001b[0m\u001b[0m\n\u001b[0m\u001b[0;32m    572\u001b[0m     \u001b[1;32mexcept\u001b[0m \u001b[0mtf_session\u001b[0m\u001b[1;33m.\u001b[0m\u001b[0mStatusNotOK\u001b[0m \u001b[1;32mas\u001b[0m \u001b[0me\u001b[0m\u001b[1;33m:\u001b[0m\u001b[1;33m\u001b[0m\u001b[0m\n\u001b[0;32m    573\u001b[0m       \u001b[0me_type\u001b[0m\u001b[1;33m,\u001b[0m \u001b[0me_value\u001b[0m\u001b[1;33m,\u001b[0m \u001b[0me_traceback\u001b[0m \u001b[1;33m=\u001b[0m \u001b[0msys\u001b[0m\u001b[1;33m.\u001b[0m\u001b[0mexc_info\u001b[0m\u001b[1;33m(\u001b[0m\u001b[1;33m)\u001b[0m\u001b[1;33m\u001b[0m\u001b[0m\n",
      "\u001b[1;32m/home/trn/tensorflow/local/lib/python2.7/site-packages/tensorflow/python/client/session.pyc\u001b[0m in \u001b[0;36m_run_fn\u001b[1;34m(session, feed_dict, fetch_list, target_list)\u001b[0m\n\u001b[0;32m    553\u001b[0m       \u001b[1;31m# Ensure any changes to the graph are reflected in the runtime.\u001b[0m\u001b[1;33m\u001b[0m\u001b[1;33m\u001b[0m\u001b[0m\n\u001b[0;32m    554\u001b[0m       \u001b[0mself\u001b[0m\u001b[1;33m.\u001b[0m\u001b[0m_extend_graph\u001b[0m\u001b[1;33m(\u001b[0m\u001b[1;33m)\u001b[0m\u001b[1;33m\u001b[0m\u001b[0m\n\u001b[1;32m--> 555\u001b[1;33m       \u001b[1;32mreturn\u001b[0m \u001b[0mtf_session\u001b[0m\u001b[1;33m.\u001b[0m\u001b[0mTF_Run\u001b[0m\u001b[1;33m(\u001b[0m\u001b[0msession\u001b[0m\u001b[1;33m,\u001b[0m \u001b[0mfeed_dict\u001b[0m\u001b[1;33m,\u001b[0m \u001b[0mfetch_list\u001b[0m\u001b[1;33m,\u001b[0m \u001b[0mtarget_list\u001b[0m\u001b[1;33m)\u001b[0m\u001b[1;33m\u001b[0m\u001b[0m\n\u001b[0m\u001b[0;32m    556\u001b[0m \u001b[1;33m\u001b[0m\u001b[0m\n\u001b[0;32m    557\u001b[0m     \u001b[1;32mdef\u001b[0m \u001b[0m_prun_fn\u001b[0m\u001b[1;33m(\u001b[0m\u001b[0msession\u001b[0m\u001b[1;33m,\u001b[0m \u001b[0mhandle\u001b[0m\u001b[1;33m,\u001b[0m \u001b[0mfeed_dict\u001b[0m\u001b[1;33m,\u001b[0m \u001b[0mfetch_list\u001b[0m\u001b[1;33m)\u001b[0m\u001b[1;33m:\u001b[0m\u001b[1;33m\u001b[0m\u001b[0m\n",
      "\u001b[1;31mKeyboardInterrupt\u001b[0m: "
     ]
    }
   ],
   "source": [
    "merged = tf.merge_all_summaries()\n",
    "timestring = datetime.datetime.now().strftime(\"mnist_conv_%Y%m%d-%H%M%S\")\n",
    "with tf.Session() as sess:\n",
    "    writer = tf.train.SummaryWriter(\"./tensorboard/{}/\".format(timestring), sess.graph_def)\n",
    "    sess.run(tf.initialize_all_variables())\n",
    "    for i in range(10000):\n",
    "        x_tr_, y_tr_ = mnist.train.next_batch(1000)\n",
    "        sess.run(train_step, feed_dict={x: x_tr_, y: y_tr_, keep_prob:0.5})\n",
    "        if i % 10 == 0:\n",
    "            x_te_, y_te_ = mnist.validation.next_batch(1000)\n",
    "            print \"{}% correct\".format(sess.run(100*accuracy, feed_dict={x: x_te_, y: y_te_, keep_prob:1.0}))\n",
    "            summaries = sess.run(merged, feed_dict={x: x_te_, y: y_te_, keep_prob:1.0})\n",
    "            writer.add_summary(summaries, i)"
   ]
  },
  {
   "cell_type": "code",
   "execution_count": null,
   "metadata": {
    "collapsed": true
   },
   "outputs": [],
   "source": [
    "tf.image_summary?"
   ]
  },
  {
   "cell_type": "code",
   "execution_count": null,
   "metadata": {
    "collapsed": true
   },
   "outputs": [],
   "source": []
  }
 ],
 "metadata": {
  "kernelspec": {
   "display_name": "Python 2",
   "language": "python",
   "name": "python2"
  },
  "language_info": {
   "codemirror_mode": {
    "name": "ipython",
    "version": 2
   },
   "file_extension": ".py",
   "mimetype": "text/x-python",
   "name": "python",
   "nbconvert_exporter": "python",
   "pygments_lexer": "ipython2",
   "version": "2.7.6"
  }
 },
 "nbformat": 4,
 "nbformat_minor": 0
}
