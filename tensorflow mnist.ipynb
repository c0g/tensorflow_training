{
 "cells": [
  {
   "cell_type": "code",
   "execution_count": 1,
   "metadata": {
    "collapsed": false
   },
   "outputs": [
    {
     "name": "stdout",
     "output_type": "stream",
     "text": [
      "Populating the interactive namespace from numpy and matplotlib\n"
     ]
    }
   ],
   "source": [
    "import tensorflow as tf\n",
    "import os\n",
    "import time\n",
    "from get_mnist import read_data_sets\n",
    "%pylab inline"
   ]
  },
  {
   "cell_type": "code",
   "execution_count": 2,
   "metadata": {
    "collapsed": false
   },
   "outputs": [
    {
     "name": "stdout",
     "output_type": "stream",
     "text": [
      "Extracting ./mnist/train-images-idx3-ubyte.gz\n",
      "Extracting ./mnist/train-labels-idx1-ubyte.gz\n",
      "Extracting ./mnist/t10k-images-idx3-ubyte.gz\n",
      "Extracting ./mnist/t10k-labels-idx1-ubyte.gz\n"
     ]
    }
   ],
   "source": [
    "mnist = read_data_sets(\"./mnist\", one_hot=True, dtype='float32')"
   ]
  },
  {
   "cell_type": "code",
   "execution_count": 3,
   "metadata": {
    "collapsed": false
   },
   "outputs": [],
   "source": [
    "with tf.name_scope(\"inputs\"):\n",
    "    x = tf.placeholder(tf.float32, [None, 784], name=\"input\")\n",
    "    y = tf.placeholder(tf.float32, [None, 10], name=\"output\")"
   ]
  },
  {
   "cell_type": "markdown",
   "metadata": {},
   "source": [
    "# Define network\n",
    "Input is 784 elemnts wide (full image). Make a fully connected network with a 50 element hidden layer.\n",
    "\n",
    "This isn't a particularly good network, but it serves to illustrate some tensorflow things."
   ]
  },
  {
   "cell_type": "code",
   "execution_count": 4,
   "metadata": {
    "collapsed": false
   },
   "outputs": [],
   "source": [
    "# with tf.name_scope(\"variables\"):\n",
    "W1 = tf.Variable(tf.random_normal([784, 50]), name=\"W1\")\n",
    "b1 = tf.Variable(tf.random_normal([50]), name=\"b1\")\n",
    "W2 = tf.Variable(tf.random_normal([50, 10]), name=\"W2\")\n",
    "b2 = tf.Variable(tf.random_normal([10]), name=\"b2\")\n",
    "\n",
    "# with tf.name_scope(\"network\"):\n",
    "h1 = tf.tanh(tf.matmul(x, W1) + b1)\n",
    "output = tf.nn.softmax(tf.matmul(h1, W2) + b2)\n",
    "    \n",
    "tf.histogram_summary(\"w1\", W1)\n",
    "tf.histogram_summary(\"b1\", b1)\n",
    "tf.histogram_summary(\"w2\", W2)\n",
    "tf.histogram_summary(\"b2\", b2)\n",
    "tf.histogram_summary(\"output\", output)\n",
    "\n",
    "# with tf.name_scope(\"loss\"):\n",
    "cross_entropy = -tf.reduce_sum(y*tf.log(output + 1e-9))\n",
    "xentropy = tf.scalar_summary(\"xentropy\", cross_entropy)\n",
    "    \n",
    "# with tf.name_scope(\"train\"):\n",
    "train_step = tf.train.AdamOptimizer(0.01).minimize(cross_entropy)\n",
    "\n",
    "# with tf.name_scope(\"test\"):\n",
    "correct_prediction = tf.equal(tf.argmax(y,1), tf.argmax(output,1))\n",
    "accuracy = tf.reduce_mean(tf.cast(correct_prediction, tf.float32))\n",
    "accuracy_summary = tf.scalar_summary(\"accuracy\", accuracy)"
   ]
  },
  {
   "cell_type": "code",
   "execution_count": 6,
   "metadata": {
    "collapsed": false
   },
   "outputs": [
    {
     "name": "stdout",
     "output_type": "stream",
     "text": [
      "11.2400007248% correct\n",
      "84.1999969482% correct\n",
      "88.0% correct\n",
      "90.1600036621% correct\n",
      "91.4799957275% correct\n",
      "92.0% correct\n",
      "92.5400009155% correct\n",
      "92.4199981689% correct\n",
      "92.7799987793% correct\n",
      "92.9799957275% correct\n",
      "93.2799987793% correct\n",
      "93.6999969482% correct\n",
      "93.5999984741% correct\n",
      "93.7200012207% correct\n",
      "93.9599990845% correct\n",
      "94.0599975586% correct\n",
      "94.0599975586% correct\n",
      "94.3600006104% correct\n",
      "94.3400039673% correct\n",
      "94.4000015259% correct\n",
      "94.5999984741% correct\n",
      "94.3600006104% correct\n",
      "94.4000015259% correct\n",
      "94.2600021362% correct\n",
      "94.5% correct\n",
      "94.4199981689% correct\n",
      "94.3600006104% correct\n",
      "94.6600036621% correct\n",
      "94.4199981689% correct\n",
      "94.2799987793% correct\n",
      "94.3000030518% correct\n",
      "94.4599990845% correct\n",
      "94.1800003052% correct\n",
      "94.3400039673% correct\n",
      "94.4800033569% correct\n",
      "94.6399993896% correct\n",
      "94.4000015259% correct\n",
      "94.2600021362% correct\n",
      "94.2600021362% correct\n",
      "94.5999984741% correct\n",
      "94.5599975586% correct\n",
      "94.1999969482% correct\n",
      "94.3000030518% correct\n",
      "94.0599975586% correct\n",
      "94.5200042725% correct\n",
      "94.2600021362% correct\n",
      "94.3000030518% correct\n",
      "94.4800033569% correct\n",
      "94.1800003052% correct\n",
      "94.0400009155% correct\n",
      "94.3199996948% correct\n",
      "94.4199981689% correct\n",
      "94.6399993896% correct\n",
      "94.7799987793% correct\n",
      "94.6399993896% correct\n",
      "94.6399993896% correct\n",
      "94.6399993896% correct\n",
      "94.6800003052% correct\n",
      "94.6200027466% correct\n",
      "94.5400009155% correct\n",
      "94.4000015259% correct\n",
      "94.8000030518% correct\n",
      "94.6399993896% correct\n",
      "94.6600036621% correct\n",
      "94.8600006104% correct\n",
      "94.6600036621% correct\n",
      "94.7799987793% correct\n",
      "94.9400024414% correct\n",
      "94.7200012207% correct\n",
      "94.7799987793% correct\n",
      "94.8400039673% correct\n",
      "94.7200012207% correct\n",
      "94.8600006104% correct\n",
      "94.9199981689% correct\n",
      "94.6600036621% correct\n",
      "94.5599975586% correct\n",
      "93.9599990845% correct\n",
      "95.0200042725% correct\n",
      "95.0200042725% correct\n",
      "94.8800048828% correct\n",
      "94.9800033569% correct\n",
      "94.9400024414% correct\n",
      "94.8199996948% correct\n",
      "94.7600021362% correct\n",
      "94.8199996948% correct\n",
      "94.7000045776% correct\n",
      "94.7200012207% correct\n",
      "94.6600036621% correct\n",
      "94.7000045776% correct\n",
      "94.7399978638% correct\n",
      "94.6600036621% correct\n",
      "94.6200027466% correct\n",
      "94.1800003052% correct\n",
      "94.6399993896% correct\n",
      "95.1200027466% correct\n",
      "94.8800048828% correct\n",
      "95.060005188% correct\n",
      "95.0% correct\n",
      "94.8800048828% correct\n",
      "95.060005188% correct\n"
     ]
    }
   ],
   "source": [
    "merged = tf.merge_all_summaries()\n",
    "timestring = datetime.datetime.now().strftime(\"mnist_%Y%m%d-%H%M%S\")\n",
    "with tf.Session() as sess:\n",
    "    writer = tf.train.SummaryWriter(\"./tensorboard/{}/\".format(timestring), sess.graph_def)\n",
    "    sess.run(tf.initialize_all_variables())\n",
    "    for i in range(10000):\n",
    "        x_tr_, y_tr_ = mnist.train.next_batch(1000)\n",
    "        sess.run(train_step, feed_dict={x: x_tr_, y: y_tr_})\n",
    "        if i % 100 == 0:\n",
    "            x_te_, y_te_ = mnist.validation.images, mnist.validation.labels\n",
    "            print \"{}% correct\".format(sess.run(100*accuracy, feed_dict={x: x_te_, y: y_te_}))\n",
    "            summaries = sess.run(merged, feed_dict={x: x_te_, y: y_te_})\n",
    "            writer.add_summary(summaries, i)"
   ]
  }
 ],
 "metadata": {
  "kernelspec": {
   "display_name": "Python 2",
   "language": "python",
   "name": "python2"
  },
  "language_info": {
   "codemirror_mode": {
    "name": "ipython",
    "version": 2
   },
   "file_extension": ".py",
   "mimetype": "text/x-python",
   "name": "python",
   "nbconvert_exporter": "python",
   "pygments_lexer": "ipython2",
   "version": "2.7.11"
  }
 },
 "nbformat": 4,
 "nbformat_minor": 0
}
